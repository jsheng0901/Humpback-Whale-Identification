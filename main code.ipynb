{
  "nbformat": 4,
  "nbformat_minor": 0,
  "metadata": {
    "kernelspec": {
      "display_name": "Python 3",
      "language": "python",
      "name": "python3"
    },
    "language_info": {
      "name": "python",
      "version": "3.6.4",
      "mimetype": "text/x-python",
      "codemirror_mode": {
        "name": "ipython",
        "version": 3
      },
      "pygments_lexer": "ipython3",
      "nbconvert_exporter": "python",
      "file_extension": ".py"
    },
    "colab": {
      "name": "kernel8b79eadbd5.ipynb",
      "provenance": []
    }
  },
  "cells": [
    {
      "cell_type": "code",
      "metadata": {
        "_uuid": "8f2839f25d086af736a60e9eeb907d3b93b6e0e5",
        "_cell_guid": "b1076dfc-b9ad-4769-8c92-a6c4dae69d19",
        "trusted": true,
        "id": "eOAhp4Rmrnch",
        "colab_type": "code",
        "colab": {}
      },
      "source": [
        "import numpy as np # linear algebra\n",
        "import pandas as pd # data processing, CSV file I/O (e.g. pd.read_csv)\n",
        "\n",
        "# Input data files are available in the \"../input/\" directory.\n",
        "# For example, running this (by clicking run or pressing Shift+Enter) will list the files in the input directory\n",
        "\n",
        "import os\n",
        "print(os.listdir(\"../input\"))"
      ],
      "execution_count": 0,
      "outputs": []
    },
    {
      "cell_type": "code",
      "metadata": {
        "_cell_guid": "79c7e3d0-c299-4dcb-8224-4455121ee9b0",
        "_uuid": "d629ff2d2480ee46fbb7e2d37f6b5fab8052498a",
        "trusted": true,
        "id": "ugAxIP6srnck",
        "colab_type": "code",
        "colab": {}
      },
      "source": [
        "import numpy as np \n",
        "import pandas as pd \n",
        "import os\n",
        "import matplotlib.pyplot as plt\n",
        "import matplotlib.image as mplimg\n",
        "from matplotlib.pyplot import imshow\n",
        "\n",
        "from sklearn.preprocessing import LabelEncoder\n",
        "from sklearn.preprocessing import OneHotEncoder\n",
        "\n",
        "from keras import layers\n",
        "from keras.preprocessing import image\n",
        "from keras.applications.imagenet_utils import preprocess_input\n",
        "from keras.layers import Input, Dense, Activation, BatchNormalization, Flatten, Conv2D,GlobalAveragePooling2D\n",
        "from keras.layers import AveragePooling2D, MaxPooling2D, Dropout\n",
        "from keras.models import Model\n",
        "\n",
        "import keras.backend as K\n",
        "from keras.models import Sequential\n",
        "\n",
        "import warnings\n",
        "warnings.simplefilter(\"ignore\", category=DeprecationWarning)"
      ],
      "execution_count": 0,
      "outputs": []
    },
    {
      "cell_type": "code",
      "metadata": {
        "trusted": true,
        "id": "wv-pPdcJrncp",
        "colab_type": "code",
        "colab": {}
      },
      "source": [
        "number_train = len(os.listdir(\"../input/train\"))\n",
        "train_df = pd.read_csv(\"../input/train.csv\")\n",
        "print('The shape of trainning csv is ' + str(train_df.shape))\n",
        "print('The number of trainning image is ' + str(number_train))\n",
        "train_df.head()"
      ],
      "execution_count": 0,
      "outputs": []
    },
    {
      "cell_type": "code",
      "metadata": {
        "trusted": true,
        "id": "pifPRkH-rncr",
        "colab_type": "code",
        "colab": {}
      },
      "source": [
        "class_size = train_df['Id'].value_counts()\n",
        "class_size[1:15].plot(kind='bar')"
      ],
      "execution_count": 0,
      "outputs": []
    },
    {
      "cell_type": "code",
      "metadata": {
        "trusted": true,
        "id": "yIgs3Gv4rnct",
        "colab_type": "code",
        "colab": {}
      },
      "source": [
        "def prepareImages(data, m, dataset):\n",
        "    print(\"Preparing images\")\n",
        "    X_train = np.zeros((m, 100, 100, 3))\n",
        "    count = 0\n",
        "    \n",
        "    for fig in data['Image']:\n",
        "        #load images into images of size 100x100x3\n",
        "        img = image.load_img(\"../input/\"+dataset+\"/\"+fig, target_size=(100, 100, 3)) # show the image as PIL  \n",
        "        x = image.img_to_array(img) # convert image to pixal values and shapes as target_size which defined above \n",
        "        x = preprocess_input(x) # center the image pixal value because Resnet model train on pixal values in (-1,1)\n",
        "\n",
        "        X_train[count] = x\n",
        "        if (count%500 == 0):\n",
        "            print(\"Processing image: \", count+1, \", \", fig)\n",
        "        count += 1\n",
        "    \n",
        "    return X_train"
      ],
      "execution_count": 0,
      "outputs": []
    },
    {
      "cell_type": "code",
      "metadata": {
        "trusted": true,
        "id": "1GtsT1xdrncw",
        "colab_type": "code",
        "colab": {}
      },
      "source": [
        "X = prepareImages(train_df, train_df.shape[0], \"train\")\n",
        "X /= 255 # normalized the image pixal values  \n",
        "X.shape # just check the above model "
      ],
      "execution_count": 0,
      "outputs": []
    },
    {
      "cell_type": "code",
      "metadata": {
        "trusted": true,
        "id": "2YAFM1u8rncz",
        "colab_type": "code",
        "colab": {}
      },
      "source": [
        "def prepare_labels(y):\n",
        "    values = np.array(y)\n",
        "    label_encoder = LabelEncoder()\n",
        "    integer_encoded = label_encoder.fit_transform(values)\n",
        "    # print(integer_encoded) this change 5005 classes as lable class as a np.array\n",
        "\n",
        "    onehot_encoder = OneHotEncoder(sparse=False)\n",
        "    integer_encoded = integer_encoded.reshape(len(integer_encoded), 1) # change integer_encoded to (25361, 1)\n",
        "    onehot_encoded = onehot_encoder.fit_transform(integer_encoded)\n",
        "    # print(onehot_encoded)\n",
        "\n",
        "    y = onehot_encoded # change all sample as (25361, 5005) and  each row is one sample one-encoding class \n",
        "    # print(y.shape)\n",
        "    return y, label_encoder"
      ],
      "execution_count": 0,
      "outputs": []
    },
    {
      "cell_type": "code",
      "metadata": {
        "trusted": true,
        "id": "XgPk6YSGrnc3",
        "colab_type": "code",
        "colab": {}
      },
      "source": [
        "# Another way to get lable in one-hot encoding \n",
        "yy = pd.get_dummies(train_df['Id']).values # try another way to change one-encoding "
      ],
      "execution_count": 0,
      "outputs": []
    },
    {
      "cell_type": "code",
      "metadata": {
        "trusted": true,
        "id": "H08qDqnPrnc7",
        "colab_type": "code",
        "colab": {}
      },
      "source": [
        "# try to split the train and val\n",
        "from sklearn.model_selection import train_test_split\n",
        "train_x, val_x, train_y, val_y = train_test_split(X, yy, test_size = 0.2, random_state = 0)"
      ],
      "execution_count": 0,
      "outputs": []
    },
    {
      "cell_type": "code",
      "metadata": {
        "trusted": true,
        "id": "F5V96EbCrnc-",
        "colab_type": "code",
        "colab": {}
      },
      "source": [
        "# check the train and val\n",
        "print(train_x.shape, val_x.shape)\n",
        "print(train_y.shape, val_y.shape)"
      ],
      "execution_count": 0,
      "outputs": []
    },
    {
      "cell_type": "code",
      "metadata": {
        "trusted": true,
        "id": "IipW_HRPrndB",
        "colab_type": "code",
        "colab": {}
      },
      "source": [
        "y, label_encoder = prepare_labels(train_df['Id'])\n",
        "y.shape"
      ],
      "execution_count": 0,
      "outputs": []
    },
    {
      "cell_type": "code",
      "metadata": {
        "trusted": true,
        "id": "DTlq-NX-rndD",
        "colab_type": "code",
        "colab": {}
      },
      "source": [
        "# The first CNN model \n",
        "model = Sequential()\n",
        "\n",
        "model.add(Conv2D(32, (7, 7), strides = (1, 1), name = 'conv0', input_shape = (100, 100, 3)))\n",
        "\n",
        "model.add(BatchNormalization(axis = 3, name = 'bn0'))\n",
        "model.add(Activation('relu'))\n",
        "\n",
        "model.add(MaxPooling2D((2, 2), name='max_pool'))\n",
        "model.add(Conv2D(64, (3, 3), strides = (1,1), name=\"conv1\"))\n",
        "model.add(Activation('relu'))\n",
        "model.add(AveragePooling2D((3, 3), name='avg_pool'))\n",
        "\n",
        "model.add(Flatten())\n",
        "model.add(Dense(500, activation=\"relu\", name='rl'))\n",
        "model.add(Dropout(0.5))\n",
        "model.add(Dense(yy.shape[1], activation='softmax', name='sm'))\n",
        "\n",
        "model.compile(loss='categorical_crossentropy', optimizer=\"adam\", metrics=['accuracy'])\n",
        "model.summary()"
      ],
      "execution_count": 0,
      "outputs": []
    },
    {
      "cell_type": "code",
      "metadata": {
        "trusted": true,
        "id": "21kLOwRUrndF",
        "colab_type": "code",
        "colab": {}
      },
      "source": [
        "# Try another CNN model \n",
        "model = Sequential()\n",
        "\n",
        "model.add(Conv2D(filters = 16, kernel_size = (5,5), padding = 'Same', activation = 'relu', input_shape = (100,100,3)))\n",
        "model.add(Conv2D(filters = 16, kernel_size = (5,5), padding = 'Same', activation = 'relu'))\n",
        "model.add(MaxPooling2D(pool_size = (2,2)))\n",
        "model.add(Dropout(0.25))\n",
        "\n",
        "model.add(Conv2D(filters = 32, kernel_size = (3,3), padding = 'Same', activation = 'relu'))\n",
        "model.add(Conv2D(filters = 32, kernel_size = (3,3), padding = 'Same', activation = 'relu'))\n",
        "model.add(MaxPooling2D(pool_size = (2,2), strides=(2,2)))\n",
        "model.add(Dropout(0.25))\n",
        "\n",
        "model.add(Conv2D(filters = 64, kernel_size = (3,3), padding = 'Same', activation = 'relu'))\n",
        "model.add(Conv2D(filters = 64, kernel_size = (3,3), padding = 'Same', activation = 'relu'))\n",
        "model.add(MaxPooling2D(pool_size = (2,2), strides=(2,2)))\n",
        "model.add(Dropout(0.25))\n",
        "\n",
        "# fully connected\n",
        "model.add(Flatten())\n",
        "model.add(Dense(256, activation = 'relu'))\n",
        "model.add(BatchNormalization())\n",
        "model.add(Dense(yy.shape[1], activation = \"softmax\"))\n",
        "model.compile(loss='categorical_crossentropy', optimizer=\"adam\", metrics=['accuracy'])\n",
        "model.summary()"
      ],
      "execution_count": 0,
      "outputs": []
    },
    {
      "cell_type": "code",
      "metadata": {
        "trusted": true,
        "id": "ve89TawirndH",
        "colab_type": "code",
        "colab": {}
      },
      "source": [
        "history = model.fit(X, yy, epochs=1, batch_size=100, verbose=1)"
      ],
      "execution_count": 0,
      "outputs": []
    },
    {
      "cell_type": "code",
      "metadata": {
        "trusted": true,
        "id": "TkPZPRrurndK",
        "colab_type": "code",
        "colab": {}
      },
      "source": [
        "plt.plot(history.history['acc'])\n",
        "plt.title('Model accuracy')\n",
        "plt.ylabel('Accuracy')\n",
        "plt.xlabel('Epoch')\n",
        "plt.show()"
      ],
      "execution_count": 0,
      "outputs": []
    },
    {
      "cell_type": "code",
      "metadata": {
        "trusted": true,
        "id": "fIGMrZ1orndN",
        "colab_type": "code",
        "colab": {}
      },
      "source": [
        "# try fit_generator funtion for data augmentation avoiding overfiting\n",
        "from tensorflow.keras.preprocessing.image import ImageDataGenerator\n",
        "train_datagen = ImageDataGenerator(rotation_range = 40,\n",
        "                                   width_shift_range = 0.2,\n",
        "                                   height_shift_range = 0.2,\n",
        "                                   shear_range = 0.2,\n",
        "                                   zoom_range = 0.2,\n",
        "                                   horizontal_flip = True)\n",
        "validation_datagen = ImageDataGenerator(rotation_range = 40,\n",
        "                                   width_shift_range = 0.2,\n",
        "                                   height_shift_range = 0.2,\n",
        "                                   shear_range = 0.2,\n",
        "                                   zoom_range = 0.2,\n",
        "                                   horizontal_flip = True)\n",
        "history_1 = model.fit_generator(train_datagen.flow(train_x, train_y, batch_size=32),\n",
        "                              steps_per_epoch=len(train_x) / 32,\n",
        "                              epochs=10,\n",
        "                              validation_data=validation_datagen.flow(val_x, val_y, batch_size=32),\n",
        "                              validation_steps=len(val_x) / 32)\n"
      ],
      "execution_count": 0,
      "outputs": []
    },
    {
      "cell_type": "code",
      "metadata": {
        "trusted": true,
        "id": "Zn-wBFjvrndQ",
        "colab_type": "code",
        "colab": {}
      },
      "source": [
        "plt.plot(history_1.history['acc'])\n",
        "plt.plot(history_1.history['val_acc'])\n",
        "plt.title('Model accuracy')\n",
        "plt.ylabel('Accuracy')\n",
        "plt.xlabel('Epoch')\n",
        "plt.show()"
      ],
      "execution_count": 0,
      "outputs": []
    },
    {
      "cell_type": "code",
      "metadata": {
        "trusted": true,
        "id": "8LlWkuGRrndU",
        "colab_type": "code",
        "colab": {}
      },
      "source": [
        "# try transfer learning Inceptionv3\n",
        "from tensorflow.keras.applications.inception_v3 import InceptionV3\n",
        "from tensorflow.keras import Model\n",
        "\n",
        "pre_trained_model = InceptionV3(input_shape = (100, 100, 3), \n",
        "                                include_top = False,weights=None, classes=5005)\n",
        "\n",
        "#pre_trained_model.load_weights(local_weights_file)\n",
        "\n",
        "#for layer in pre_trained_model.layers:\n",
        "#  layer.trainable = False\n",
        "  \n",
        "# pre_trained_model.summary()\n",
        "\n",
        "last_layer = pre_trained_model.get_layer('mixed7')\n",
        "print('last layer output shape: ', last_layer.output_shape)\n",
        "last_output = last_layer.output"
      ],
      "execution_count": 0,
      "outputs": []
    },
    {
      "cell_type": "code",
      "metadata": {
        "trusted": true,
        "id": "pxTOwq9frndX",
        "colab_type": "code",
        "colab": {}
      },
      "source": [
        "x = Flatten()(last_output)\n",
        "# Add a fully connected layer with 1,024 hidden units and ReLU activation\n",
        "x = Dense(1024, activation='relu')(x)\n",
        "# Add a dropout rate of 0.2\n",
        "x = Dropout(0.2)(x)                  \n",
        "# Add a final sigmoid layer for classification\n",
        "x = Dense(5005, activation='softmax')(x)           \n",
        "\n",
        "model_1 = Model(pre_trained_model.input, x) "
      ],
      "execution_count": 0,
      "outputs": []
    },
    {
      "cell_type": "code",
      "metadata": {
        "trusted": true,
        "id": "cgicP81Mrnde",
        "colab_type": "code",
        "colab": {}
      },
      "source": [
        "# try transfer learning ResNet50\n",
        "from keras.applications.resnet50 import ResNet50\n",
        "from tensorflow.keras import Model\n",
        "\n",
        "pre_trained_model_1 = ResNet50(input_shape = (100, 100, 3), \n",
        "                                include_top = False,weights=None, classes=5005)\n",
        "\n",
        "x = pre_trained_model_1.output\n",
        "x = GlobalAveragePooling2D()(x)\n",
        "\n",
        "# let's add a fully-connected layer\n",
        "x = Dense(1024, activation='relu')(x)\n",
        "\n",
        "x = Dense(5005, activation='softmax')(x)\n",
        "\n",
        "model_2 = Model(inputs=pre_trained_model_1.input, outputs=x)\n",
        "\n",
        "model_2.compile(loss='categorical_crossentropy', optimizer=\"adam\", metrics=['accuracy'])"
      ],
      "execution_count": 0,
      "outputs": []
    },
    {
      "cell_type": "code",
      "metadata": {
        "trusted": true,
        "id": "R5hqGpthrndh",
        "colab_type": "code",
        "colab": {}
      },
      "source": [
        "pre_trained_model_1.summary()"
      ],
      "execution_count": 0,
      "outputs": []
    },
    {
      "cell_type": "code",
      "metadata": {
        "trusted": true,
        "id": "latKbBFUrndj",
        "colab_type": "code",
        "colab": {}
      },
      "source": [
        "from tensorflow.keras.preprocessing.image import ImageDataGenerator\n",
        "train_datagen_1 = ImageDataGenerator(rotation_range = 40,\n",
        "                                   width_shift_range = 0.2,\n",
        "                                   height_shift_range = 0.2,\n",
        "                                   shear_range = 0.2,\n",
        "                                   zoom_range = 0.2,\n",
        "                                   horizontal_flip = True)\n",
        "\n",
        "validation_datagen_1 = ImageDataGenerator()\n",
        "\n",
        "history_2 = pre_trained_model_1.fit_generator(train_datagen_1.flow(train_x, train_y, batch_size=32),\n",
        "                              steps_per_epoch=len(train_x) / 32,\n",
        "                              epochs=10,\n",
        "                              validation_data=validation_datagen_1.flow(val_x, val_y, batch_size=32),\n",
        "                              validation_steps=len(val_x) / 32)X"
      ],
      "execution_count": 0,
      "outputs": []
    },
    {
      "cell_type": "code",
      "metadata": {
        "trusted": true,
        "id": "E-BFZSDmrndn",
        "colab_type": "code",
        "colab": {}
      },
      "source": [
        "# Try MobileNet transfer learning \n",
        "from keras.applications import MobileNet\n",
        "from keras.applications.mobilenet import preprocess_input\n",
        "model_3 = MobileNet(input_shape=(100, 100, 3), alpha=1., weights=None, classes=5005)\n",
        "\n",
        "model_3.compile(loss='categorical_crossentropy', optimizer=\"adam\", metrics=['accuracy'])"
      ],
      "execution_count": 0,
      "outputs": []
    },
    {
      "cell_type": "code",
      "metadata": {
        "trusted": true,
        "id": "DY4J9bldrndr",
        "colab_type": "code",
        "colab": {}
      },
      "source": [
        "from tensorflow.keras.preprocessing.image import ImageDataGenerator\n",
        "train_datagen_2 = ImageDataGenerator(rotation_range = 40,\n",
        "                                   width_shift_range = 0.2,\n",
        "                                   height_shift_range = 0.2,\n",
        "                                   shear_range = 0.2,\n",
        "                                   zoom_range = 0.2,\n",
        "                                   horizontal_flip = True)\n",
        "\n",
        "validation_datagen_2 = ImageDataGenerator()\n",
        "\n",
        "history_3 =model_3.fit_generator(train_datagen_2.flow(X, yy, batch_size=32),\n",
        "                              steps_per_epoch=len(X) / 32,\n",
        "                              epochs=10)"
      ],
      "execution_count": 0,
      "outputs": []
    }
  ]
}